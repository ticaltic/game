{
 "cells": [
  {
   "cell_type": "code",
   "execution_count": 1,
   "metadata": {},
   "outputs": [
    {
     "name": "stdout",
     "output_type": "stream",
     "text": [
      "The current numpy version is  1.19.0\n",
      "The current pandas version is  1.0.5\n",
      "The current matplotlib version is  3.2.2\n",
      "The current seaborn version is  0.10.1\n",
      "The current sklearn version is  0.23.1\n"
     ]
    }
   ],
   "source": [
    "import pandas as pd\n",
    "import numpy as np\n",
    "import matplotlib.pyplot as plt\n",
    "import seaborn as sns\n",
    "from sklearn.model_selection import train_test_split\n",
    "from sklearn.linear_model import LinearRegression\n",
    "from sklearn.ensemble import RandomForestRegressor\n",
    "from sklearn import metrics\n",
    "from sklearn.model_selection import StratifiedKFold\n",
    "from IPython.display import display\n",
    "colour = ['#dc2624','#2b4750','#45a0a2','#e87a59','#7dcaa9'\n",
    ",'#649E7D','#dc8018','#C89F91','#6c6d6c','#4f6268','#c7cccf']\n",
    "\n",
    "\n",
    "import matplotlib\n",
    "import sklearn\n",
    "print('The current numpy version is ',np.__version__)\n",
    "print('The current pandas version is ',pd.__version__)\n",
    "print('The current matplotlib version is ',matplotlib.__version__)\n",
    "print('The current seaborn version is ',sns.__version__)\n",
    "print('The current sklearn version is ',sklearn.__version__)"
   ]
  },
  {
   "cell_type": "code",
   "execution_count": 2,
   "metadata": {},
   "outputs": [],
   "source": [
    "#  处理之前的数据表格，也可不运行\n",
    "game_1 = pd.read_csv('./GAME NARRATIVES (CSV 数字).csv')\n",
    "game = game_1.iloc[1:,:]\n",
    "game = game.drop(1)\n",
    "# game_2 = pd.read_csv('./GAME NARRATIVES (CSV 文本).csv')\n",
    "q_list = ['Game', 'Q1_1', 'Q1_2', 'Q1_3', 'Q2_1', 'Q2_2', 'Q2_3', 'Q3_1', 'Q3_2',\n",
    "       'Q4_1', 'Q4_2', 'Q5_1', 'Q5_2', 'Q5_3', 'Q6_1', 'Q6_2']\n",
    "data = game[q_list]\n",
    "data.to_csv('./data.csv',index = None)"
   ]
  },
  {
   "cell_type": "code",
   "execution_count": 25,
   "metadata": {},
   "outputs": [],
   "source": [
    "df = pd.read_csv('./data.csv')"
   ]
  },
  {
   "cell_type": "code",
   "execution_count": 26,
   "metadata": {},
   "outputs": [],
   "source": [
    "# 删除有空值的数据，因为含有空值的数据不多，所以不需要填补，直接删除ji\n",
    "df = df.dropna()\n",
    "df.Game = df.Game.astype('int')\n",
    "columns = df.columns[1:]"
   ]
  },
  {
   "cell_type": "code",
   "execution_count": 30,
   "metadata": {},
   "outputs": [],
   "source": [
    "# 处理成功程度的表格\n",
    "success = pd.read_excel('./Game Success 8.27 数字+英文名.xlsx')\n",
    "map_score = {}\n",
    "\n",
    "for  index,score in zip(success['Game Number'],success['Score']):\n",
    "#     print(index,score)\n",
    "    map_score[index] = score"
   ]
  },
  {
   "cell_type": "code",
   "execution_count": 32,
   "metadata": {},
   "outputs": [],
   "source": [
    "df['score'] = df['Game'].map(map_score)\n",
    "df = df.drop('Game',axis = 1)"
   ]
  },
  {
   "cell_type": "markdown",
   "metadata": {},
   "source": [
    "### 这里使用交叉验证来保证模型的置信度（论文可写交叉验证原理等），我们使用4折交叉验证，模型使用了线性回归以及随机森林回归，衡量指标使用了mse和mae，分别统计了每轮的结果以及最终的结果"
   ]
  },
  {
   "cell_type": "code",
   "execution_count": 34,
   "metadata": {},
   "outputs": [],
   "source": [
    "# 定义交叉验证的函数\n",
    "def cross_validation(x,y):\n",
    "    \n",
    "        #生成DATAFRAm表格存储模型指标\n",
    "\n",
    "    df_scores = []\n",
    "    fold = StratifiedKFold(n_splits=4, shuffle=True)\n",
    "    # n_splits 表示划分为几块（至少是2）\n",
    "    # random_state 表示是否固定随机起点\n",
    "    for index, (train_idx, val_idx) in enumerate(fold.split(x, y)):\n",
    "        df_score = pd.DataFrame(np.zeros(shape=(2,3)))\n",
    "        df_score.columns = ['evluation_indicator','RandomForestRegressor','LinearRegression']\n",
    "        df_score.evluation_indicator = ['mse','mae']\n",
    "        df_score.set_index('evluation_indicator',inplace=True)\n",
    "        models = []\n",
    "        val_list = []\n",
    "    #     循环5次\n",
    "    #     train_index表示skfold划分的其中五分之四的训练集的行索引\n",
    "    #     val_idx表示skfold划分的其中五分之一的验证集的行索引\n",
    "#         print('the {} round of cross validation'.format(index+1))\n",
    "        train_x,train_y = x[train_idx], y[train_idx]\n",
    "        val_x,val_y = x[val_idx], y[val_idx]\n",
    "        \n",
    "        rf = RandomForestRegressor()\n",
    "        lr = LinearRegression()\n",
    "\n",
    "        rf.fit(train_x,train_y)\n",
    "        lr.fit(train_x,train_y)\n",
    "\n",
    "        val_list.append(rf.predict(val_x))\n",
    "        val_list.append(lr.predict(val_x))\n",
    "        \n",
    "        for i in range(len(val_list)):\n",
    "            mse=metrics.mean_squared_error(val_y,val_list[i]) \n",
    "            mae=metrics.mean_absolute_error(val_y,val_list[i])\n",
    "\n",
    "            df_score.iloc[0,i] = mse\n",
    "            df_score.iloc[1,i] = mae\n",
    "\n",
    "#             df_score.iloc[4,i] = recall\n",
    "\n",
    "        df_scores.append(df_score)\n",
    "        print('The {} round of cross validation : '.format(index+1))\n",
    "        display(df_score)\n",
    "\n",
    "    df_score_final = pd.DataFrame(np.zeros(shape=(2,3)))\n",
    "    df_score_final.columns = ['evluation_indicator','RandomForestRegressor','LinearRegression']\n",
    "    df_score_final.evluation_indicator = ['mse','mae']\n",
    "    df_score_final.set_index('evluation_indicator',inplace=True)\n",
    "#     将每轮交叉验证的结果送入list中，最终的结果取均值，增加统计上的可信度\n",
    "    for df_score in df_scores:\n",
    "        df_score_final = df_score_final+df_score\n",
    "    df_score_final =  df_score_final/4\n",
    "    \n",
    "    print('The average resoult of cross validation : ')\n",
    "    display(df_score_final.reset_index())\n",
    "        \n",
    "    return rf"
   ]
  },
  {
   "cell_type": "code",
   "execution_count": 35,
   "metadata": {},
   "outputs": [
    {
     "name": "stdout",
     "output_type": "stream",
     "text": [
      "The 1 round of cross validation : \n"
     ]
    },
    {
     "data": {
      "text/html": [
       "<div>\n",
       "<style scoped>\n",
       "    .dataframe tbody tr th:only-of-type {\n",
       "        vertical-align: middle;\n",
       "    }\n",
       "\n",
       "    .dataframe tbody tr th {\n",
       "        vertical-align: top;\n",
       "    }\n",
       "\n",
       "    .dataframe thead th {\n",
       "        text-align: right;\n",
       "    }\n",
       "</style>\n",
       "<table border=\"1\" class=\"dataframe\">\n",
       "  <thead>\n",
       "    <tr style=\"text-align: right;\">\n",
       "      <th></th>\n",
       "      <th>RandomForestRegressor</th>\n",
       "      <th>LinearRegression</th>\n",
       "    </tr>\n",
       "    <tr>\n",
       "      <th>evluation_indicator</th>\n",
       "      <th></th>\n",
       "      <th></th>\n",
       "    </tr>\n",
       "  </thead>\n",
       "  <tbody>\n",
       "    <tr>\n",
       "      <th>mse</th>\n",
       "      <td>296.289248</td>\n",
       "      <td>309.930629</td>\n",
       "    </tr>\n",
       "    <tr>\n",
       "      <th>mae</th>\n",
       "      <td>14.931616</td>\n",
       "      <td>15.598468</td>\n",
       "    </tr>\n",
       "  </tbody>\n",
       "</table>\n",
       "</div>"
      ],
      "text/plain": [
       "                     RandomForestRegressor  LinearRegression\n",
       "evluation_indicator                                         \n",
       "mse                             296.289248        309.930629\n",
       "mae                              14.931616         15.598468"
      ]
     },
     "metadata": {},
     "output_type": "display_data"
    },
    {
     "name": "stdout",
     "output_type": "stream",
     "text": [
      "The 2 round of cross validation : \n"
     ]
    },
    {
     "data": {
      "text/html": [
       "<div>\n",
       "<style scoped>\n",
       "    .dataframe tbody tr th:only-of-type {\n",
       "        vertical-align: middle;\n",
       "    }\n",
       "\n",
       "    .dataframe tbody tr th {\n",
       "        vertical-align: top;\n",
       "    }\n",
       "\n",
       "    .dataframe thead th {\n",
       "        text-align: right;\n",
       "    }\n",
       "</style>\n",
       "<table border=\"1\" class=\"dataframe\">\n",
       "  <thead>\n",
       "    <tr style=\"text-align: right;\">\n",
       "      <th></th>\n",
       "      <th>RandomForestRegressor</th>\n",
       "      <th>LinearRegression</th>\n",
       "    </tr>\n",
       "    <tr>\n",
       "      <th>evluation_indicator</th>\n",
       "      <th></th>\n",
       "      <th></th>\n",
       "    </tr>\n",
       "  </thead>\n",
       "  <tbody>\n",
       "    <tr>\n",
       "      <th>mse</th>\n",
       "      <td>276.914436</td>\n",
       "      <td>275.584663</td>\n",
       "    </tr>\n",
       "    <tr>\n",
       "      <th>mae</th>\n",
       "      <td>14.029563</td>\n",
       "      <td>14.854601</td>\n",
       "    </tr>\n",
       "  </tbody>\n",
       "</table>\n",
       "</div>"
      ],
      "text/plain": [
       "                     RandomForestRegressor  LinearRegression\n",
       "evluation_indicator                                         \n",
       "mse                             276.914436        275.584663\n",
       "mae                              14.029563         14.854601"
      ]
     },
     "metadata": {},
     "output_type": "display_data"
    },
    {
     "name": "stdout",
     "output_type": "stream",
     "text": [
      "The 3 round of cross validation : \n"
     ]
    },
    {
     "data": {
      "text/html": [
       "<div>\n",
       "<style scoped>\n",
       "    .dataframe tbody tr th:only-of-type {\n",
       "        vertical-align: middle;\n",
       "    }\n",
       "\n",
       "    .dataframe tbody tr th {\n",
       "        vertical-align: top;\n",
       "    }\n",
       "\n",
       "    .dataframe thead th {\n",
       "        text-align: right;\n",
       "    }\n",
       "</style>\n",
       "<table border=\"1\" class=\"dataframe\">\n",
       "  <thead>\n",
       "    <tr style=\"text-align: right;\">\n",
       "      <th></th>\n",
       "      <th>RandomForestRegressor</th>\n",
       "      <th>LinearRegression</th>\n",
       "    </tr>\n",
       "    <tr>\n",
       "      <th>evluation_indicator</th>\n",
       "      <th></th>\n",
       "      <th></th>\n",
       "    </tr>\n",
       "  </thead>\n",
       "  <tbody>\n",
       "    <tr>\n",
       "      <th>mse</th>\n",
       "      <td>278.278100</td>\n",
       "      <td>287.061382</td>\n",
       "    </tr>\n",
       "    <tr>\n",
       "      <th>mae</th>\n",
       "      <td>14.241157</td>\n",
       "      <td>15.282391</td>\n",
       "    </tr>\n",
       "  </tbody>\n",
       "</table>\n",
       "</div>"
      ],
      "text/plain": [
       "                     RandomForestRegressor  LinearRegression\n",
       "evluation_indicator                                         \n",
       "mse                             278.278100        287.061382\n",
       "mae                              14.241157         15.282391"
      ]
     },
     "metadata": {},
     "output_type": "display_data"
    },
    {
     "name": "stdout",
     "output_type": "stream",
     "text": [
      "The 4 round of cross validation : \n"
     ]
    },
    {
     "data": {
      "text/html": [
       "<div>\n",
       "<style scoped>\n",
       "    .dataframe tbody tr th:only-of-type {\n",
       "        vertical-align: middle;\n",
       "    }\n",
       "\n",
       "    .dataframe tbody tr th {\n",
       "        vertical-align: top;\n",
       "    }\n",
       "\n",
       "    .dataframe thead th {\n",
       "        text-align: right;\n",
       "    }\n",
       "</style>\n",
       "<table border=\"1\" class=\"dataframe\">\n",
       "  <thead>\n",
       "    <tr style=\"text-align: right;\">\n",
       "      <th></th>\n",
       "      <th>RandomForestRegressor</th>\n",
       "      <th>LinearRegression</th>\n",
       "    </tr>\n",
       "    <tr>\n",
       "      <th>evluation_indicator</th>\n",
       "      <th></th>\n",
       "      <th></th>\n",
       "    </tr>\n",
       "  </thead>\n",
       "  <tbody>\n",
       "    <tr>\n",
       "      <th>mse</th>\n",
       "      <td>283.275968</td>\n",
       "      <td>301.886224</td>\n",
       "    </tr>\n",
       "    <tr>\n",
       "      <th>mae</th>\n",
       "      <td>14.296676</td>\n",
       "      <td>15.632334</td>\n",
       "    </tr>\n",
       "  </tbody>\n",
       "</table>\n",
       "</div>"
      ],
      "text/plain": [
       "                     RandomForestRegressor  LinearRegression\n",
       "evluation_indicator                                         \n",
       "mse                             283.275968        301.886224\n",
       "mae                              14.296676         15.632334"
      ]
     },
     "metadata": {},
     "output_type": "display_data"
    },
    {
     "name": "stdout",
     "output_type": "stream",
     "text": [
      "The average resoult of cross validation : \n"
     ]
    },
    {
     "data": {
      "text/html": [
       "<div>\n",
       "<style scoped>\n",
       "    .dataframe tbody tr th:only-of-type {\n",
       "        vertical-align: middle;\n",
       "    }\n",
       "\n",
       "    .dataframe tbody tr th {\n",
       "        vertical-align: top;\n",
       "    }\n",
       "\n",
       "    .dataframe thead th {\n",
       "        text-align: right;\n",
       "    }\n",
       "</style>\n",
       "<table border=\"1\" class=\"dataframe\">\n",
       "  <thead>\n",
       "    <tr style=\"text-align: right;\">\n",
       "      <th></th>\n",
       "      <th>evluation_indicator</th>\n",
       "      <th>RandomForestRegressor</th>\n",
       "      <th>LinearRegression</th>\n",
       "    </tr>\n",
       "  </thead>\n",
       "  <tbody>\n",
       "    <tr>\n",
       "      <th>0</th>\n",
       "      <td>mse</td>\n",
       "      <td>283.689438</td>\n",
       "      <td>293.615725</td>\n",
       "    </tr>\n",
       "    <tr>\n",
       "      <th>1</th>\n",
       "      <td>mae</td>\n",
       "      <td>14.374753</td>\n",
       "      <td>15.341948</td>\n",
       "    </tr>\n",
       "  </tbody>\n",
       "</table>\n",
       "</div>"
      ],
      "text/plain": [
       "  evluation_indicator  RandomForestRegressor  LinearRegression\n",
       "0                 mse             283.689438        293.615725\n",
       "1                 mae              14.374753         15.341948"
      ]
     },
     "metadata": {},
     "output_type": "display_data"
    }
   ],
   "source": [
    "x = df.drop('score',axis = 1).values\n",
    "y = df.score.values\n",
    "rf = cross_validation(x,y)"
   ]
  },
  {
   "cell_type": "markdown",
   "metadata": {},
   "source": [
    "### 由于线性回归模型无法判断特征的重要性程度，所以这里使用随机森林回归来得到特征的重要性程度，总结成表格，并绘制成图"
   ]
  },
  {
   "cell_type": "code",
   "execution_count": 36,
   "metadata": {},
   "outputs": [],
   "source": [
    "# 定义获取特征重要性程度的函数\n",
    "def get_importance(rf):\n",
    "    df_feat = pd.DataFrame()\n",
    "    df_feat['name'] = columns\n",
    "    df_feat['score'] = rf.feature_importances_\n",
    "    df_feat = df_feat.sort_values(['score'], ascending=False)\n",
    "\n",
    "    display(df_feat)\n",
    "\n",
    "    fig = plt.figure(figsize=(16,9), dpi = 100, facecolor='w', edgecolor='k')\n",
    "\n",
    "    ax = fig.add_subplot(1,1,1)\n",
    "    sns.barplot(df_feat['score'],df_feat['name'])\n",
    "    plt.title('feature impotance',fontsize = 20)\n",
    "    ax.set_yticklabels(labels=df_feat['name'])\n",
    "\n",
    "    plt.show()"
   ]
  },
  {
   "cell_type": "code",
   "execution_count": 37,
   "metadata": {},
   "outputs": [
    {
     "data": {
      "text/html": [
       "<div>\n",
       "<style scoped>\n",
       "    .dataframe tbody tr th:only-of-type {\n",
       "        vertical-align: middle;\n",
       "    }\n",
       "\n",
       "    .dataframe tbody tr th {\n",
       "        vertical-align: top;\n",
       "    }\n",
       "\n",
       "    .dataframe thead th {\n",
       "        text-align: right;\n",
       "    }\n",
       "</style>\n",
       "<table border=\"1\" class=\"dataframe\">\n",
       "  <thead>\n",
       "    <tr style=\"text-align: right;\">\n",
       "      <th></th>\n",
       "      <th>name</th>\n",
       "      <th>score</th>\n",
       "    </tr>\n",
       "  </thead>\n",
       "  <tbody>\n",
       "    <tr>\n",
       "      <th>12</th>\n",
       "      <td>Q5_3</td>\n",
       "      <td>0.085863</td>\n",
       "    </tr>\n",
       "    <tr>\n",
       "      <th>3</th>\n",
       "      <td>Q2_1</td>\n",
       "      <td>0.070647</td>\n",
       "    </tr>\n",
       "    <tr>\n",
       "      <th>7</th>\n",
       "      <td>Q3_2</td>\n",
       "      <td>0.070523</td>\n",
       "    </tr>\n",
       "    <tr>\n",
       "      <th>4</th>\n",
       "      <td>Q2_2</td>\n",
       "      <td>0.069330</td>\n",
       "    </tr>\n",
       "    <tr>\n",
       "      <th>11</th>\n",
       "      <td>Q5_2</td>\n",
       "      <td>0.068274</td>\n",
       "    </tr>\n",
       "    <tr>\n",
       "      <th>10</th>\n",
       "      <td>Q5_1</td>\n",
       "      <td>0.066822</td>\n",
       "    </tr>\n",
       "    <tr>\n",
       "      <th>14</th>\n",
       "      <td>Q6_2</td>\n",
       "      <td>0.066682</td>\n",
       "    </tr>\n",
       "    <tr>\n",
       "      <th>1</th>\n",
       "      <td>Q1_2</td>\n",
       "      <td>0.065482</td>\n",
       "    </tr>\n",
       "    <tr>\n",
       "      <th>9</th>\n",
       "      <td>Q4_2</td>\n",
       "      <td>0.064856</td>\n",
       "    </tr>\n",
       "    <tr>\n",
       "      <th>2</th>\n",
       "      <td>Q1_3</td>\n",
       "      <td>0.064786</td>\n",
       "    </tr>\n",
       "    <tr>\n",
       "      <th>5</th>\n",
       "      <td>Q2_3</td>\n",
       "      <td>0.063804</td>\n",
       "    </tr>\n",
       "    <tr>\n",
       "      <th>0</th>\n",
       "      <td>Q1_1</td>\n",
       "      <td>0.063280</td>\n",
       "    </tr>\n",
       "    <tr>\n",
       "      <th>6</th>\n",
       "      <td>Q3_1</td>\n",
       "      <td>0.062741</td>\n",
       "    </tr>\n",
       "    <tr>\n",
       "      <th>13</th>\n",
       "      <td>Q6_1</td>\n",
       "      <td>0.061291</td>\n",
       "    </tr>\n",
       "    <tr>\n",
       "      <th>8</th>\n",
       "      <td>Q4_1</td>\n",
       "      <td>0.055619</td>\n",
       "    </tr>\n",
       "  </tbody>\n",
       "</table>\n",
       "</div>"
      ],
      "text/plain": [
       "    name     score\n",
       "12  Q5_3  0.085863\n",
       "3   Q2_1  0.070647\n",
       "7   Q3_2  0.070523\n",
       "4   Q2_2  0.069330\n",
       "11  Q5_2  0.068274\n",
       "10  Q5_1  0.066822\n",
       "14  Q6_2  0.066682\n",
       "1   Q1_2  0.065482\n",
       "9   Q4_2  0.064856\n",
       "2   Q1_3  0.064786\n",
       "5   Q2_3  0.063804\n",
       "0   Q1_1  0.063280\n",
       "6   Q3_1  0.062741\n",
       "13  Q6_1  0.061291\n",
       "8   Q4_1  0.055619"
      ]
     },
     "metadata": {},
     "output_type": "display_data"
    },
    {
     "data": {
      "image/png": "[encoded data removed]",
      "text/plain": [
       "<Figure size 1600x900 with 1 Axes>"
      ]
     },
     "metadata": {},
     "output_type": "display_data"
    }
   ],
   "source": [
    "get_importance(rf)"
   ]
  },
  {
   "cell_type": "code",
   "execution_count": null,
   "metadata": {},
   "outputs": [],
   "source": []
  },
  {
   "cell_type": "code",
   "execution_count": null,
   "metadata": {},
   "outputs": [],
   "source": []
  },
  {
   "cell_type": "code",
   "execution_count": null,
   "metadata": {},
   "outputs": [],
   "source": [
    "### 取15个问题的结果作为特征，这些问题的空缺都在20%以下，基本可以接受"
   ]
  },
  {
   "cell_type": "code",
   "execution_count": null,
   "metadata": {},
   "outputs": [],
   "source": []
  }
 ],
 "metadata": {
  "kernelspec": {
   "display_name": "Python 3",
   "language": "python",
   "name": "python3"
  },
  "language_info": {
   "codemirror_mode": {
    "name": "ipython",
    "version": 3
   },
   "file_extension": ".py",
   "mimetype": "text/x-python",
   "name": "python",
   "nbconvert_exporter": "python",
   "pygments_lexer": "ipython3",
   "version": "3.6.10"
  }
 },
 "nbformat": 4,
 "nbformat_minor": 4
}
